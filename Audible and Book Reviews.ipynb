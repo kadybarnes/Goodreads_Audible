{
 "cells": [
  {
   "cell_type": "markdown",
   "id": "11d33c7c",
   "metadata": {},
   "source": [
    "# Comparing Book Reviews From Audible and Goodreads"
   ]
  },
  {
   "cell_type": "markdown",
   "id": "a80aa10a",
   "metadata": {},
   "source": [
    "## I am a huge fan of audiobooks, but I find myself not liking the books that I get or not finding ones that I think I will like based on the reviews.  So, like someone who rewatches their favorite tv show over and over again, I will reread the same books constantly.  \n",
    "## Maybe I'm looking in the wrong place for book recommendations, but Audible's rating includes the rating on the narrator, which is crucial and can make or break a book.\n",
    "## So, I will go through and pull reviews from both Goodreads and Audible, and compare their ratings to see if there is a difference and get some insights into the differences between two sites."
   ]
  },
  {
   "cell_type": "code",
   "execution_count": 1,
   "id": "f75e2496",
   "metadata": {},
   "outputs": [],
   "source": [
    "import matplotlib.pyplot as plt\n",
    "import pandas as pd"
   ]
  },
  {
   "cell_type": "code",
   "execution_count": 2,
   "id": "38d1ef20",
   "metadata": {},
   "outputs": [],
   "source": [
    "df_audible = pd.read_csv('Audible_Catalog.csv')\n",
    "# Retrieved from Kaggle: https://www.kaggle.com/datasets/amritvirsinghx/audible-complete-catalog\n",
    "\n",
    "\n",
    "df_goodreads = pd.read_csv('goodreads_data.csv')\n",
    "# Retrieved from Kaggle: https://www.kaggle.com/datasets/ishikajohari/best-books-10k-multi-genre-data"
   ]
  },
  {
   "cell_type": "markdown",
   "id": "f045cc1e",
   "metadata": {},
   "source": [
    "## Cleaning Audible Data"
   ]
  },
  {
   "cell_type": "code",
   "execution_count": 3,
   "id": "40fccc9c",
   "metadata": {},
   "outputs": [],
   "source": [
    "df_audible.head()\n",
    "\n",
    "#renaming to create underscores \n",
    "df_audible.rename(columns = {'Number of Reviews' : 'Num_Reviews_Audible', 'Book Name' : 'Book',\n",
    "                            'Rating' : 'Audible_Rating'}, inplace = True)\n",
    "\n",
    "df_audible.isnull().sum()\n",
    "\n",
    "#dropping price column- my intent is to focus on ratings rather than price.\n",
    "#I will also drop reviews that do not have ratings since my focus is comparing the reviews of books and audiobooks\n",
    "\n",
    "df_audible.drop('Price', axis = 1, inplace = True)\n",
    "df_audible.dropna(inplace = True)"
   ]
  },
  {
   "cell_type": "code",
   "execution_count": 4,
   "id": "b14b290f",
   "metadata": {},
   "outputs": [
    {
     "name": "stdout",
     "output_type": "stream",
     "text": [
      "<class 'pandas.core.frame.DataFrame'>\n",
      "Int64Index: 5737 entries, 0 to 6366\n",
      "Data columns (total 4 columns):\n",
      " #   Column               Non-Null Count  Dtype  \n",
      "---  ------               --------------  -----  \n",
      " 0   Book                 5737 non-null   object \n",
      " 1   Author               5737 non-null   object \n",
      " 2   Audible_Rating       5737 non-null   float64\n",
      " 3   Num_Reviews_Audible  5737 non-null   float64\n",
      "dtypes: float64(2), object(2)\n",
      "memory usage: 224.1+ KB\n"
     ]
    },
    {
     "data": {
      "text/plain": [
       "(0, 4)"
      ]
     },
     "execution_count": 4,
     "metadata": {},
     "output_type": "execute_result"
    }
   ],
   "source": [
    "df_audible.isnull().sum()\n",
    "\n",
    "df_audible.info() #Data types are correct\n",
    "\n",
    "dupes = df_audible[df_audible.duplicated(subset = ['Book'])]\n",
    "dupes\n",
    "\n",
    "#dropping duplicates\n",
    "df_audible.drop_duplicates(subset = 'Book', inplace = True)\n",
    "\n",
    "df_audible[df_audible.duplicated(subset = ['Book'])].shape"
   ]
  },
  {
   "cell_type": "code",
   "execution_count": 5,
   "id": "29b36c8f",
   "metadata": {},
   "outputs": [],
   "source": [
    "#Changing Num_Reviews_Audible to an integer\n",
    "df_audible['Num_Reviews_Audible'] = df_audible['Num_Reviews_Audible'].astype(int)"
   ]
  },
  {
   "cell_type": "markdown",
   "id": "ce977110",
   "metadata": {},
   "source": [
    "## Cleaning Goodreads Data"
   ]
  },
  {
   "cell_type": "code",
   "execution_count": 6,
   "id": "b22ff077",
   "metadata": {},
   "outputs": [
    {
     "name": "stdout",
     "output_type": "stream",
     "text": [
      "<class 'pandas.core.frame.DataFrame'>\n",
      "RangeIndex: 10000 entries, 0 to 9999\n",
      "Data columns (total 5 columns):\n",
      " #   Column                 Non-Null Count  Dtype  \n",
      "---  ------                 --------------  -----  \n",
      " 0   Book                   10000 non-null  object \n",
      " 1   Author                 10000 non-null  object \n",
      " 2   Genre                  10000 non-null  object \n",
      " 3   Goodreads_Rating       10000 non-null  float64\n",
      " 4   Num_Reviews_Goodreads  10000 non-null  object \n",
      "dtypes: float64(1), object(4)\n",
      "memory usage: 390.8+ KB\n"
     ]
    }
   ],
   "source": [
    "df_goodreads.head()\n",
    "\n",
    "df_goodreads.rename(columns = {'Num_Ratings' : 'Num_Reviews_Goodreads',\n",
    "                              'Avg_Rating' : 'Goodreads_Rating', 'Genres' : 'Genre'}, inplace = True)\n",
    "\n",
    "#I'm concerned with ratings, so I will remove description, URL, and Unamed columns\n",
    "\n",
    "df_goodreads.drop(['Unnamed: 0', 'Description', 'URL'], axis = 1, inplace = True)\n",
    "\n",
    "df_goodreads.isnull().sum()\n",
    "\n",
    "df_goodreads.info()"
   ]
  },
  {
   "cell_type": "code",
   "execution_count": 7,
   "id": "e4c0c555",
   "metadata": {},
   "outputs": [],
   "source": [
    "#Dropping Duplicates\n",
    "\n",
    "dupes_goodreads = df_goodreads[df_goodreads.duplicated(subset = ['Book'])]\n",
    "dupes_goodreads\n",
    "\n",
    "df_goodreads.drop_duplicates(subset = ['Book'], inplace = True)"
   ]
  },
  {
   "cell_type": "code",
   "execution_count": 8,
   "id": "9ee5a666",
   "metadata": {},
   "outputs": [
    {
     "data": {
      "text/plain": [
       "(0, 5)"
      ]
     },
     "execution_count": 8,
     "metadata": {},
     "output_type": "execute_result"
    }
   ],
   "source": [
    "df_goodreads[df_goodreads.duplicated(subset = ['Book'])].shape"
   ]
  },
  {
   "cell_type": "code",
   "execution_count": 9,
   "id": "a99a6007",
   "metadata": {},
   "outputs": [],
   "source": [
    "#Changing Num_Reviews_Goodreads to an integer\n",
    "df_goodreads['Num_Reviews_Goodreads'] = df_goodreads['Num_Reviews_Goodreads'].str.replace(',' , '')\n",
    "df_goodreads['Num_Reviews_Goodreads'] = df_goodreads['Num_Reviews_Goodreads'].astype(int)"
   ]
  },
  {
   "cell_type": "code",
   "execution_count": 10,
   "id": "cff888bc",
   "metadata": {},
   "outputs": [
    {
     "data": {
      "text/html": [
       "<div>\n",
       "<style scoped>\n",
       "    .dataframe tbody tr th:only-of-type {\n",
       "        vertical-align: middle;\n",
       "    }\n",
       "\n",
       "    .dataframe tbody tr th {\n",
       "        vertical-align: top;\n",
       "    }\n",
       "\n",
       "    .dataframe thead th {\n",
       "        text-align: right;\n",
       "    }\n",
       "</style>\n",
       "<table border=\"1\" class=\"dataframe\">\n",
       "  <thead>\n",
       "    <tr style=\"text-align: right;\">\n",
       "      <th></th>\n",
       "      <th>Book</th>\n",
       "      <th>Author</th>\n",
       "      <th>Genre</th>\n",
       "      <th>Goodreads_Rating</th>\n",
       "      <th>Num_Reviews_Goodreads</th>\n",
       "    </tr>\n",
       "  </thead>\n",
       "  <tbody>\n",
       "    <tr>\n",
       "      <th>0</th>\n",
       "      <td>To Kill a Mockingbird</td>\n",
       "      <td>Harper Lee</td>\n",
       "      <td>['Classics', 'Fiction', 'Historical Fiction', ...</td>\n",
       "      <td>4.27</td>\n",
       "      <td>5691311</td>\n",
       "    </tr>\n",
       "    <tr>\n",
       "      <th>1</th>\n",
       "      <td>Harry Potter and the Philosopher’s Stone (Harr...</td>\n",
       "      <td>J.K. Rowling</td>\n",
       "      <td>['Fantasy', 'Fiction', 'Young Adult', 'Magic',...</td>\n",
       "      <td>4.47</td>\n",
       "      <td>9278135</td>\n",
       "    </tr>\n",
       "    <tr>\n",
       "      <th>2</th>\n",
       "      <td>Pride and Prejudice</td>\n",
       "      <td>Jane Austen</td>\n",
       "      <td>['Classics', 'Fiction', 'Romance', 'Historical...</td>\n",
       "      <td>4.28</td>\n",
       "      <td>3944155</td>\n",
       "    </tr>\n",
       "    <tr>\n",
       "      <th>3</th>\n",
       "      <td>The Diary of a Young Girl</td>\n",
       "      <td>Anne Frank</td>\n",
       "      <td>['Classics', 'Nonfiction', 'History', 'Biograp...</td>\n",
       "      <td>4.18</td>\n",
       "      <td>3488438</td>\n",
       "    </tr>\n",
       "    <tr>\n",
       "      <th>4</th>\n",
       "      <td>Animal Farm</td>\n",
       "      <td>George Orwell</td>\n",
       "      <td>['Classics', 'Fiction', 'Dystopia', 'Fantasy',...</td>\n",
       "      <td>3.98</td>\n",
       "      <td>3575172</td>\n",
       "    </tr>\n",
       "  </tbody>\n",
       "</table>\n",
       "</div>"
      ],
      "text/plain": [
       "                                                Book         Author  \\\n",
       "0                              To Kill a Mockingbird     Harper Lee   \n",
       "1  Harry Potter and the Philosopher’s Stone (Harr...   J.K. Rowling   \n",
       "2                                Pride and Prejudice    Jane Austen   \n",
       "3                          The Diary of a Young Girl     Anne Frank   \n",
       "4                                        Animal Farm  George Orwell   \n",
       "\n",
       "                                               Genre  Goodreads_Rating  \\\n",
       "0  ['Classics', 'Fiction', 'Historical Fiction', ...              4.27   \n",
       "1  ['Fantasy', 'Fiction', 'Young Adult', 'Magic',...              4.47   \n",
       "2  ['Classics', 'Fiction', 'Romance', 'Historical...              4.28   \n",
       "3  ['Classics', 'Nonfiction', 'History', 'Biograp...              4.18   \n",
       "4  ['Classics', 'Fiction', 'Dystopia', 'Fantasy',...              3.98   \n",
       "\n",
       "   Num_Reviews_Goodreads  \n",
       "0                5691311  \n",
       "1                9278135  \n",
       "2                3944155  \n",
       "3                3488438  \n",
       "4                3575172  "
      ]
     },
     "execution_count": 10,
     "metadata": {},
     "output_type": "execute_result"
    }
   ],
   "source": [
    "#The genre section has a list of genres.  I will limit this to the first one listed to better sort.\n",
    "\n",
    "df_goodreads = df_goodreads[df_goodreads['Genre'].apply(lambda x: len(x) > 2)]\n",
    "\n",
    "df_goodreads.head()"
   ]
  },
  {
   "cell_type": "code",
   "execution_count": 11,
   "id": "f04e8d39",
   "metadata": {},
   "outputs": [],
   "source": [
    "#Updating genre section to the first genre listed: \n",
    "\n",
    "df_goodreads['Genre'] = df_goodreads['Genre'].apply(lambda x: x[2:10])"
   ]
  },
  {
   "cell_type": "code",
   "execution_count": 12,
   "id": "cbd773b1",
   "metadata": {},
   "outputs": [],
   "source": [
    "df_goodreads['Genre'] = df_goodreads['Genre'].replace(\"Fantasy'\", \"Fantasy\")\n",
    "df_goodreads['Genre'] = df_goodreads['Genre'].replace(\"Young Ad\", \"Young Adult\")\n",
    "df_goodreads['Genre'] = df_goodreads['Genre'].replace(\"Fiction'\", \"Fiction\")        \n",
    "df_goodreads['Genre'] = df_goodreads['Genre'].replace(\"Nonficti\", \"Nonfiction\")   \n",
    "df_goodreads['Genre'] = df_goodreads['Genre'].replace(\"Poetry',\", \"Poetry\")   \n",
    "df_goodreads['Genre'] = df_goodreads['Genre'].replace(\"Romance'\", \"Science\") \n",
    "df_goodreads['Genre'] = df_goodreads['Genre'].replace(\"Science'\", \"Science\") \n",
    "df_goodreads['Genre'] = df_goodreads['Genre'].replace(\"Animals'\", \"Animals\") \n",
    "df_goodreads['Genre'] = df_goodreads['Genre'].replace(\"New Adul\", \"New Adult\") \n",
    "df_goodreads['Genre'] = df_goodreads['Genre'].replace(\"Humor'\", \"Humor\") \n",
    "df_goodreads['Genre'] = df_goodreads['Genre'].replace(\"Psycholo\", \"Pyschology\") \n",
    "df_goodreads['Genre'] = df_goodreads['Genre'].replace(\"Self Hel\", \"Self Help\") \n",
    "df_goodreads['Genre'] = df_goodreads['Genre'].replace(\"Spiritua\", \"Spiritual\") \n",
    "df_goodreads['Genre'] = df_goodreads['Genre'].replace(\"Philosop\", \"Philosophy\") "
   ]
  },
  {
   "cell_type": "markdown",
   "id": "27507dfc",
   "metadata": {},
   "source": [
    "### Merging both datasets"
   ]
  },
  {
   "cell_type": "code",
   "execution_count": 13,
   "id": "37e91105",
   "metadata": {},
   "outputs": [
    {
     "name": "stdout",
     "output_type": "stream",
     "text": [
      "<class 'pandas.core.frame.DataFrame'>\n",
      "Int64Index: 468 entries, 0 to 467\n",
      "Data columns (total 7 columns):\n",
      " #   Column                 Non-Null Count  Dtype  \n",
      "---  ------                 --------------  -----  \n",
      " 0   Book                   468 non-null    object \n",
      " 1   Author                 468 non-null    object \n",
      " 2   Audible_Rating         468 non-null    float64\n",
      " 3   Num_Reviews_Audible    468 non-null    int32  \n",
      " 4   Genre                  468 non-null    object \n",
      " 5   Goodreads_Rating       468 non-null    float64\n",
      " 6   Num_Reviews_Goodreads  468 non-null    int32  \n",
      "dtypes: float64(2), int32(2), object(3)\n",
      "memory usage: 25.6+ KB\n"
     ]
    },
    {
     "data": {
      "text/html": [
       "<div>\n",
       "<style scoped>\n",
       "    .dataframe tbody tr th:only-of-type {\n",
       "        vertical-align: middle;\n",
       "    }\n",
       "\n",
       "    .dataframe tbody tr th {\n",
       "        vertical-align: top;\n",
       "    }\n",
       "\n",
       "    .dataframe thead th {\n",
       "        text-align: right;\n",
       "    }\n",
       "</style>\n",
       "<table border=\"1\" class=\"dataframe\">\n",
       "  <thead>\n",
       "    <tr style=\"text-align: right;\">\n",
       "      <th></th>\n",
       "      <th>Book</th>\n",
       "      <th>Author</th>\n",
       "      <th>Audible_Rating</th>\n",
       "      <th>Num_Reviews_Audible</th>\n",
       "      <th>Genre</th>\n",
       "      <th>Goodreads_Rating</th>\n",
       "      <th>Num_Reviews_Goodreads</th>\n",
       "    </tr>\n",
       "  </thead>\n",
       "  <tbody>\n",
       "    <tr>\n",
       "      <th>0</th>\n",
       "      <td>The Subtle Art of Not Giving a F*ck: A Counter...</td>\n",
       "      <td>Mark Manson</td>\n",
       "      <td>4.4</td>\n",
       "      <td>20174</td>\n",
       "      <td>Nonfiction</td>\n",
       "      <td>3.90</td>\n",
       "      <td>950104</td>\n",
       "    </tr>\n",
       "    <tr>\n",
       "      <th>1</th>\n",
       "      <td>Influence: The Psychology of Persuasion</td>\n",
       "      <td>Robert B. Cialdini</td>\n",
       "      <td>4.4</td>\n",
       "      <td>3766</td>\n",
       "      <td>Pyschology</td>\n",
       "      <td>4.21</td>\n",
       "      <td>141649</td>\n",
       "    </tr>\n",
       "    <tr>\n",
       "      <th>2</th>\n",
       "      <td>How to Win Friends and Influence People</td>\n",
       "      <td>Dale Carnegie</td>\n",
       "      <td>4.5</td>\n",
       "      <td>20872</td>\n",
       "      <td>Self Help</td>\n",
       "      <td>4.22</td>\n",
       "      <td>889455</td>\n",
       "    </tr>\n",
       "    <tr>\n",
       "      <th>3</th>\n",
       "      <td>Thinking, Fast and Slow</td>\n",
       "      <td>Daniel Kahneman</td>\n",
       "      <td>4.4</td>\n",
       "      <td>9774</td>\n",
       "      <td>Nonfiction</td>\n",
       "      <td>4.18</td>\n",
       "      <td>452036</td>\n",
       "    </tr>\n",
       "    <tr>\n",
       "      <th>4</th>\n",
       "      <td>Becoming</td>\n",
       "      <td>Michelle Obama</td>\n",
       "      <td>4.6</td>\n",
       "      <td>13848</td>\n",
       "      <td>Nonfiction</td>\n",
       "      <td>4.48</td>\n",
       "      <td>947664</td>\n",
       "    </tr>\n",
       "  </tbody>\n",
       "</table>\n",
       "</div>"
      ],
      "text/plain": [
       "                                                Book              Author  \\\n",
       "0  The Subtle Art of Not Giving a F*ck: A Counter...         Mark Manson   \n",
       "1            Influence: The Psychology of Persuasion  Robert B. Cialdini   \n",
       "2            How to Win Friends and Influence People       Dale Carnegie   \n",
       "3                            Thinking, Fast and Slow     Daniel Kahneman   \n",
       "4                                           Becoming      Michelle Obama   \n",
       "\n",
       "   Audible_Rating  Num_Reviews_Audible       Genre  Goodreads_Rating  \\\n",
       "0             4.4                20174  Nonfiction              3.90   \n",
       "1             4.4                 3766  Pyschology              4.21   \n",
       "2             4.5                20872   Self Help              4.22   \n",
       "3             4.4                 9774  Nonfiction              4.18   \n",
       "4             4.6                13848  Nonfiction              4.48   \n",
       "\n",
       "   Num_Reviews_Goodreads  \n",
       "0                 950104  \n",
       "1                 141649  \n",
       "2                 889455  \n",
       "3                 452036  \n",
       "4                 947664  "
      ]
     },
     "execution_count": 13,
     "metadata": {},
     "output_type": "execute_result"
    }
   ],
   "source": [
    "df_merged = pd.merge(df_audible, df_goodreads, on = ['Book', 'Author'], how = 'inner')\n",
    "\n",
    "df_merged.info()\n",
    "\n",
    "df_merged.head()"
   ]
  },
  {
   "cell_type": "code",
   "execution_count": 14,
   "id": "0c7b98da",
   "metadata": {},
   "outputs": [
    {
     "data": {
      "text/html": [
       "<div>\n",
       "<style scoped>\n",
       "    .dataframe tbody tr th:only-of-type {\n",
       "        vertical-align: middle;\n",
       "    }\n",
       "\n",
       "    .dataframe tbody tr th {\n",
       "        vertical-align: top;\n",
       "    }\n",
       "\n",
       "    .dataframe thead th {\n",
       "        text-align: right;\n",
       "    }\n",
       "</style>\n",
       "<table border=\"1\" class=\"dataframe\">\n",
       "  <thead>\n",
       "    <tr style=\"text-align: right;\">\n",
       "      <th></th>\n",
       "      <th>Book</th>\n",
       "      <th>Author</th>\n",
       "      <th>Audible_Rating</th>\n",
       "      <th>Goodreads_Rating</th>\n",
       "      <th>Num_Reviews_Audible</th>\n",
       "      <th>Num_Reviews_Goodreads</th>\n",
       "      <th>Genre</th>\n",
       "    </tr>\n",
       "  </thead>\n",
       "  <tbody>\n",
       "    <tr>\n",
       "      <th>0</th>\n",
       "      <td>The Subtle Art of Not Giving a F*ck: A Counter...</td>\n",
       "      <td>Mark Manson</td>\n",
       "      <td>4.4</td>\n",
       "      <td>3.90</td>\n",
       "      <td>20174</td>\n",
       "      <td>950104</td>\n",
       "      <td>Nonfiction</td>\n",
       "    </tr>\n",
       "    <tr>\n",
       "      <th>1</th>\n",
       "      <td>Influence: The Psychology of Persuasion</td>\n",
       "      <td>Robert B. Cialdini</td>\n",
       "      <td>4.4</td>\n",
       "      <td>4.21</td>\n",
       "      <td>3766</td>\n",
       "      <td>141649</td>\n",
       "      <td>Pyschology</td>\n",
       "    </tr>\n",
       "    <tr>\n",
       "      <th>2</th>\n",
       "      <td>How to Win Friends and Influence People</td>\n",
       "      <td>Dale Carnegie</td>\n",
       "      <td>4.5</td>\n",
       "      <td>4.22</td>\n",
       "      <td>20872</td>\n",
       "      <td>889455</td>\n",
       "      <td>Self Help</td>\n",
       "    </tr>\n",
       "    <tr>\n",
       "      <th>3</th>\n",
       "      <td>Thinking, Fast and Slow</td>\n",
       "      <td>Daniel Kahneman</td>\n",
       "      <td>4.4</td>\n",
       "      <td>4.18</td>\n",
       "      <td>9774</td>\n",
       "      <td>452036</td>\n",
       "      <td>Nonfiction</td>\n",
       "    </tr>\n",
       "    <tr>\n",
       "      <th>4</th>\n",
       "      <td>Becoming</td>\n",
       "      <td>Michelle Obama</td>\n",
       "      <td>4.6</td>\n",
       "      <td>4.48</td>\n",
       "      <td>13848</td>\n",
       "      <td>947664</td>\n",
       "      <td>Nonfiction</td>\n",
       "    </tr>\n",
       "  </tbody>\n",
       "</table>\n",
       "</div>"
      ],
      "text/plain": [
       "                                                Book              Author  \\\n",
       "0  The Subtle Art of Not Giving a F*ck: A Counter...         Mark Manson   \n",
       "1            Influence: The Psychology of Persuasion  Robert B. Cialdini   \n",
       "2            How to Win Friends and Influence People       Dale Carnegie   \n",
       "3                            Thinking, Fast and Slow     Daniel Kahneman   \n",
       "4                                           Becoming      Michelle Obama   \n",
       "\n",
       "   Audible_Rating  Goodreads_Rating  Num_Reviews_Audible  \\\n",
       "0             4.4              3.90                20174   \n",
       "1             4.4              4.21                 3766   \n",
       "2             4.5              4.22                20872   \n",
       "3             4.4              4.18                 9774   \n",
       "4             4.6              4.48                13848   \n",
       "\n",
       "   Num_Reviews_Goodreads       Genre  \n",
       "0                 950104  Nonfiction  \n",
       "1                 141649  Pyschology  \n",
       "2                 889455   Self Help  \n",
       "3                 452036  Nonfiction  \n",
       "4                 947664  Nonfiction  "
      ]
     },
     "execution_count": 14,
     "metadata": {},
     "output_type": "execute_result"
    }
   ],
   "source": [
    "#adjusting column order:\n",
    "\n",
    "column_order = ['Book', 'Author', 'Audible_Rating', 'Goodreads_Rating', 'Num_Reviews_Audible',\n",
    "                'Num_Reviews_Goodreads', 'Genre' ]\n",
    "\n",
    "df_merged = df_merged[column_order]\n",
    "\n",
    "df_merged.head()"
   ]
  },
  {
   "cell_type": "markdown",
   "id": "7a0ea7fb",
   "metadata": {},
   "source": [
    "### Sorting by the highest number of ratings and highest rating for both Audible and Goodreads"
   ]
  },
  {
   "cell_type": "code",
   "execution_count": 15,
   "id": "cf60cfde",
   "metadata": {},
   "outputs": [
    {
     "data": {
      "text/html": [
       "<div>\n",
       "<style scoped>\n",
       "    .dataframe tbody tr th:only-of-type {\n",
       "        vertical-align: middle;\n",
       "    }\n",
       "\n",
       "    .dataframe tbody tr th {\n",
       "        vertical-align: top;\n",
       "    }\n",
       "\n",
       "    .dataframe thead th {\n",
       "        text-align: right;\n",
       "    }\n",
       "</style>\n",
       "<table border=\"1\" class=\"dataframe\">\n",
       "  <thead>\n",
       "    <tr style=\"text-align: right;\">\n",
       "      <th></th>\n",
       "      <th>Book</th>\n",
       "      <th>Author</th>\n",
       "      <th>Audible_Rating</th>\n",
       "      <th>Goodreads_Rating</th>\n",
       "      <th>Num_Reviews_Audible</th>\n",
       "      <th>Num_Reviews_Goodreads</th>\n",
       "      <th>Genre</th>\n",
       "    </tr>\n",
       "  </thead>\n",
       "  <tbody>\n",
       "    <tr>\n",
       "      <th>10</th>\n",
       "      <td>To Kill a Mockingbird</td>\n",
       "      <td>Harper Lee</td>\n",
       "      <td>4.5</td>\n",
       "      <td>4.27</td>\n",
       "      <td>19930</td>\n",
       "      <td>5691311</td>\n",
       "      <td>Classics</td>\n",
       "    </tr>\n",
       "    <tr>\n",
       "      <th>33</th>\n",
       "      <td>The Great Gatsby</td>\n",
       "      <td>F. Scott Fitzgerald</td>\n",
       "      <td>4.2</td>\n",
       "      <td>3.93</td>\n",
       "      <td>10625</td>\n",
       "      <td>4839642</td>\n",
       "      <td>Classics</td>\n",
       "    </tr>\n",
       "    <tr>\n",
       "      <th>46</th>\n",
       "      <td>The Fault in Our Stars</td>\n",
       "      <td>John Green</td>\n",
       "      <td>4.5</td>\n",
       "      <td>4.15</td>\n",
       "      <td>43825</td>\n",
       "      <td>4762958</td>\n",
       "      <td>Young Adult</td>\n",
       "    </tr>\n",
       "    <tr>\n",
       "      <th>22</th>\n",
       "      <td>1984</td>\n",
       "      <td>George Orwell</td>\n",
       "      <td>4.5</td>\n",
       "      <td>4.19</td>\n",
       "      <td>16938</td>\n",
       "      <td>4201429</td>\n",
       "      <td>Classics</td>\n",
       "    </tr>\n",
       "    <tr>\n",
       "      <th>131</th>\n",
       "      <td>Pride and Prejudice</td>\n",
       "      <td>Jane Austen</td>\n",
       "      <td>4.5</td>\n",
       "      <td>4.28</td>\n",
       "      <td>9558</td>\n",
       "      <td>3944155</td>\n",
       "      <td>Classics</td>\n",
       "    </tr>\n",
       "  </tbody>\n",
       "</table>\n",
       "</div>"
      ],
      "text/plain": [
       "                       Book               Author  Audible_Rating  \\\n",
       "10    To Kill a Mockingbird           Harper Lee             4.5   \n",
       "33         The Great Gatsby  F. Scott Fitzgerald             4.2   \n",
       "46   The Fault in Our Stars           John Green             4.5   \n",
       "22                     1984        George Orwell             4.5   \n",
       "131     Pride and Prejudice          Jane Austen             4.5   \n",
       "\n",
       "     Goodreads_Rating  Num_Reviews_Audible  Num_Reviews_Goodreads        Genre  \n",
       "10               4.27                19930                5691311     Classics  \n",
       "33               3.93                10625                4839642     Classics  \n",
       "46               4.15                43825                4762958  Young Adult  \n",
       "22               4.19                16938                4201429     Classics  \n",
       "131              4.28                 9558                3944155     Classics  "
      ]
     },
     "execution_count": 15,
     "metadata": {},
     "output_type": "execute_result"
    }
   ],
   "source": [
    "top_sorted_goodreads = df_merged.sort_values(['Num_Reviews_Goodreads', 'Goodreads_Rating'], ascending = [False, False])\n",
    "top_sorted_goodreads.head()"
   ]
  },
  {
   "cell_type": "code",
   "execution_count": 16,
   "id": "c359218c",
   "metadata": {},
   "outputs": [
    {
     "data": {
      "text/html": [
       "<div>\n",
       "<style scoped>\n",
       "    .dataframe tbody tr th:only-of-type {\n",
       "        vertical-align: middle;\n",
       "    }\n",
       "\n",
       "    .dataframe tbody tr th {\n",
       "        vertical-align: top;\n",
       "    }\n",
       "\n",
       "    .dataframe thead th {\n",
       "        text-align: right;\n",
       "    }\n",
       "</style>\n",
       "<table border=\"1\" class=\"dataframe\">\n",
       "  <thead>\n",
       "    <tr style=\"text-align: right;\">\n",
       "      <th></th>\n",
       "      <th>Book</th>\n",
       "      <th>Author</th>\n",
       "      <th>Audible_Rating</th>\n",
       "      <th>Goodreads_Rating</th>\n",
       "      <th>Num_Reviews_Audible</th>\n",
       "      <th>Num_Reviews_Goodreads</th>\n",
       "      <th>Genre</th>\n",
       "    </tr>\n",
       "  </thead>\n",
       "  <tbody>\n",
       "    <tr>\n",
       "      <th>21</th>\n",
       "      <td>The Girl on the Train</td>\n",
       "      <td>Paula Hawkins</td>\n",
       "      <td>4.0</td>\n",
       "      <td>3.95</td>\n",
       "      <td>70077</td>\n",
       "      <td>2729895</td>\n",
       "      <td>Fiction</td>\n",
       "    </tr>\n",
       "    <tr>\n",
       "      <th>46</th>\n",
       "      <td>The Fault in Our Stars</td>\n",
       "      <td>John Green</td>\n",
       "      <td>4.5</td>\n",
       "      <td>4.15</td>\n",
       "      <td>43825</td>\n",
       "      <td>4762958</td>\n",
       "      <td>Young Adult</td>\n",
       "    </tr>\n",
       "    <tr>\n",
       "      <th>76</th>\n",
       "      <td>The Nightingale</td>\n",
       "      <td>Kristin Hannah</td>\n",
       "      <td>4.8</td>\n",
       "      <td>4.60</td>\n",
       "      <td>40839</td>\n",
       "      <td>1113296</td>\n",
       "      <td>Historic</td>\n",
       "    </tr>\n",
       "    <tr>\n",
       "      <th>75</th>\n",
       "      <td>The Martian</td>\n",
       "      <td>Andy Weir</td>\n",
       "      <td>4.7</td>\n",
       "      <td>4.41</td>\n",
       "      <td>33258</td>\n",
       "      <td>1038208</td>\n",
       "      <td>Science</td>\n",
       "    </tr>\n",
       "    <tr>\n",
       "      <th>12</th>\n",
       "      <td>Think and Grow Rich</td>\n",
       "      <td>Napoleon Hill</td>\n",
       "      <td>4.5</td>\n",
       "      <td>4.18</td>\n",
       "      <td>22330</td>\n",
       "      <td>300966</td>\n",
       "      <td>Business</td>\n",
       "    </tr>\n",
       "  </tbody>\n",
       "</table>\n",
       "</div>"
      ],
      "text/plain": [
       "                      Book          Author  Audible_Rating  Goodreads_Rating  \\\n",
       "21   The Girl on the Train   Paula Hawkins             4.0              3.95   \n",
       "46  The Fault in Our Stars      John Green             4.5              4.15   \n",
       "76         The Nightingale  Kristin Hannah             4.8              4.60   \n",
       "75             The Martian       Andy Weir             4.7              4.41   \n",
       "12     Think and Grow Rich   Napoleon Hill             4.5              4.18   \n",
       "\n",
       "    Num_Reviews_Audible  Num_Reviews_Goodreads        Genre  \n",
       "21                70077                2729895      Fiction  \n",
       "46                43825                4762958  Young Adult  \n",
       "76                40839                1113296     Historic  \n",
       "75                33258                1038208     Science   \n",
       "12                22330                 300966     Business  "
      ]
     },
     "execution_count": 16,
     "metadata": {},
     "output_type": "execute_result"
    }
   ],
   "source": [
    "top_sorted_audible = df_merged.sort_values(['Num_Reviews_Audible', 'Audible_Rating'], ascending = [False, False])\n",
    "top_sorted_audible.head()"
   ]
  },
  {
   "cell_type": "markdown",
   "id": "5b04ecb6",
   "metadata": {},
   "source": [
    "## Observations:\n",
    "\n",
    "### 4 out of the 5 top books from Goodreads are classics. \n",
    "### 4 out of the 5 top books from Aubible have been major motion pictures (I wonder what percentage of reviews were made before and after the movie came out).\n",
    "\n",
    "### The top 5 in each category have higher Audible ratings than Goodread ratings, and there are infinitely more Goodread ratings than there are Audible ratings.\n",
    "###     There are many factors that could contribute to this:\n",
    "###       1) Audible is a paid subscription service and you cannot leave a review if you are not a member.\n",
    "###       2) When you sign up for Goodreads, you have to rate at least 20 books in order to receive book recommendations, which can account at leat part of the reason there are so many more reviews on Goodreads than Audible.\n",
    "###       3) People that left Goodreads ratings could have listened to the audiobook as well.  There is no distinction in that data, as opposed to Audible, where it is safe to assume that people who rated the book also listened to the book.  \n",
    "###       4) Goodreads has a social aspect to it, where you can link with friends, so it encourages more people to mark books read and to review them."
   ]
  },
  {
   "cell_type": "markdown",
   "id": "ebbe1f7a",
   "metadata": {},
   "source": [
    "### Let's look at the ratings side by side:"
   ]
  },
  {
   "cell_type": "code",
   "execution_count": 17,
   "id": "d80ca984",
   "metadata": {},
   "outputs": [],
   "source": [
    "top_5_genre = ['Fiction', 'Nonfiction', 'Classics', 'Science', 'Philosophy']\n",
    "df_merged_genre = df_merged[df_merged['Genre'].isin(top_5_genre)]"
   ]
  },
  {
   "cell_type": "code",
   "execution_count": 18,
   "id": "0f43a6c5",
   "metadata": {},
   "outputs": [
    {
     "data": {
      "image/png": "[encoded data removed]",
      "text/plain": [
       "<Figure size 1000x500 with 2 Axes>"
      ]
     },
     "metadata": {},
     "output_type": "display_data"
    }
   ],
   "source": [
    "import seaborn as sns \n",
    "\n",
    "fig, axs = plt.subplots(1, 2, figsize = (10, 5))\n",
    "\n",
    "sns.boxplot(data = df_merged_genre, x = 'Genre', y = 'Goodreads_Rating', ax = axs[0])\n",
    "axs[0].set_title('Goodreads Rating')\n",
    "axs[0].spines['top'].set_visible(False)\n",
    "axs[0].spines['right'].set_visible(False)\n",
    "axs[0].set_ylabel('Rating')\n",
    "axs[0].set_xlabel('Genre', labelpad = 15)\n",
    "\n",
    "sns.boxplot(data = df_merged_genre, x = 'Genre', y = 'Audible_Rating', ax = axs[1])\n",
    "axs[1].set_title('Audible Rating')\n",
    "axs[1].spines['top'].set_visible(False)\n",
    "axs[1].spines['right'].set_visible(False)\n",
    "axs[1].set_ylabel('Rating')\n",
    "axs[1].set_xlabel('Genre', labelpad = 15)\n",
    "\n",
    "plt.show()"
   ]
  },
  {
   "cell_type": "code",
   "execution_count": 19,
   "id": "f5b5bc92",
   "metadata": {},
   "outputs": [],
   "source": [
    "df_merged.to_excel('Audible_Goodreads_Ratings.xlsx', index = False)"
   ]
  },
  {
   "cell_type": "markdown",
   "id": "17b4589a",
   "metadata": {},
   "source": [
    "- While I knew that the ratings were higher on Audible, it is interesting to see it visually.  With the higher number of Goodreads reviews, it makes sense that there is also a wider range of ratings."
   ]
  },
  {
   "cell_type": "markdown",
   "id": "42db6379",
   "metadata": {},
   "source": [
    "# Final Thoughts and Business Analytics Recommendations:"
   ]
  },
  {
   "cell_type": "markdown",
   "id": "687609e9",
   "metadata": {},
   "source": [
    "- Goodreads makes it really easy to rate a book; you simply clicked a start out of five and move on.  But what if they asked one more simple question, such as, 'How did you read this book?'\n",
    "\n",
    "\n",
    "- Avid readers know there are large differences between reading a physical book, listening to one on audible, or reading it on a tablet.  I personally use all three; I prefer phyisical books for nonfiction, audible for fiction, and a tablet for quick reads.\n",
    "\n",
    "\n",
    "- Asking this question will give Amazon, who owns both Audible and Goodreads, an idea of how readers consume books and give them better insights into potential different marketing strategies.\n",
    "\n",
    "\n",
    "- Another interesting piece of information to have is when readers read the books they review.  As I mentioned above, four out of the five Audible reviews are major motion pictures; were they read before the movie adaptation was announced, or before?  This can give Amazon some idea as to whether a tv show or movie may be successful, depending on when the book was read.\n",
    "\n",
    "\n",
    "- Lastly, Goodreads offers links to purchase the book from major sellers like Barnes and Noble, Amazon, Audible, and Walmart.  In order to save the potential customer several clicks, Goodreads can link the audio sample of the Audible version of the book right to the Goodreads page.  This may create additional traffic and more subscribers for one of its businesses."
   ]
  }
 ],
 "metadata": {
  "kernelspec": {
   "display_name": "Python 3 (ipykernel)",
   "language": "python",
   "name": "python3"
  },
  "language_info": {
   "codemirror_mode": {
    "name": "ipython",
    "version": 3
   },
   "file_extension": ".py",
   "mimetype": "text/x-python",
   "name": "python",
   "nbconvert_exporter": "python",
   "pygments_lexer": "ipython3",
   "version": "3.9.13"
  }
 },
 "nbformat": 4,
 "nbformat_minor": 5
}
